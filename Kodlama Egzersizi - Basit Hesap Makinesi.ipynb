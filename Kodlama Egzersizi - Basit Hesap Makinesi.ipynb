{
 "cells": [
  {
   "cell_type": "code",
   "execution_count": 7,
   "metadata": {},
   "outputs": [
    {
     "name": "stdout",
     "output_type": "stream",
     "text": [
      "**********************\n",
      "Hesap Makinesi Programı\n",
      "\n",
      "işlemler:\n",
      "\n",
      "1. Toplama İşlemi\n",
      "\n",
      "\n",
      "2. Çıkarma işlemi\n",
      "\n",
      "\n",
      "3. Çarpma İşlemi\n",
      "\n",
      "\n",
      "4. Bölme İşlemi\n",
      "\n",
      "\n",
      "\n",
      "*********************\n",
      "Birinci Sayı: 3\n",
      "İkinci Sayı: 4\n",
      "İşlemi Giriniz:2\n",
      "3 ile 4'nin farkı -1'dir.\n"
     ]
    }
   ],
   "source": [
    "print(\"\"\"**********************\n",
    "Hesap Makinesi Programı\n",
    "\n",
    "işlemler:\n",
    "\n",
    "1. Toplama İşlemi\n",
    "\n",
    "\n",
    "2. Çıkarma işlemi\n",
    "\n",
    "\n",
    "3. Çarpma İşlemi\n",
    "\n",
    "\n",
    "4. Bölme İşlemi\n",
    "\n",
    "\n",
    "\n",
    "*********************\"\"\")\n",
    "\n",
    "\n",
    "a = int(input(\"Birinci Sayı: \"))\n",
    "b = int(input(\"İkinci Sayı: \"))\n",
    "\n",
    "işlem = input(\"İşlemi Giriniz:\")\n",
    "\n",
    "if işlem == \"1\":\n",
    "    print(f\"{a} ile {b}'nin toplamı {a+b}'dir.\")\n",
    "elif işlem == \"2\":\n",
    "    print(f\"{a} ile {b}'nin farkı {a-b}'dir.\")\n",
    "elif işlem == \"3\":\n",
    "    print(f\"{a} ile {b}'nin çarpımı {a*b}'dir.\")\n",
    "elif işlem == \"4\":\n",
    "    print(f\"{a} ile {b}'nin bölümü {a/b}'dir.\")\n",
    "    \n",
    "else: \n",
    "    print(\"Hatalı seçim...\")\n",
    "    \n",
    "    "
   ]
  },
  {
   "cell_type": "code",
   "execution_count": null,
   "metadata": {},
   "outputs": [],
   "source": []
  }
 ],
 "metadata": {
  "kernelspec": {
   "display_name": "Python 3",
   "language": "python",
   "name": "python3"
  },
  "language_info": {
   "codemirror_mode": {
    "name": "ipython",
    "version": 3
   },
   "file_extension": ".py",
   "mimetype": "text/x-python",
   "name": "python",
   "nbconvert_exporter": "python",
   "pygments_lexer": "ipython3",
   "version": "3.8.5"
  }
 },
 "nbformat": 4,
 "nbformat_minor": 4
}
