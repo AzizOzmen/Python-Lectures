{
 "cells": [
  {
   "cell_type": "code",
   "execution_count": 13,
   "metadata": {},
   "outputs": [
    {
     "name": "stdout",
     "output_type": "stream",
     "text": [
      "\n",
      "************************\n",
      "ASAL SAYI BULMA PROGRAMI\n",
      "************************\n",
      "\n",
      "Bir sayi giriniz: 14\n",
      "14 asal bir sayı değildir.\n"
     ]
    }
   ],
   "source": [
    "print(\"\"\"\n",
    "************************\n",
    "ASAL SAYI BULMA PROGRAMI\n",
    "************************\n",
    "\"\"\")\n",
    "sayi = input(\"Bir sayi giriniz: \")\n",
    "\n",
    "def asal_mi(sayi):\n",
    "    if (sayi ==1):\n",
    "        return False\n",
    "    elif (sayi == 2):\n",
    "        return True\n",
    "    else:\n",
    "        for i in range(2,sayi):\n",
    "            if sayi%i == 0 :\n",
    "                return False\n",
    "            else:\n",
    "                return True\n",
    "            \n",
    "while True:\n",
    "    if sayi == \"q\":\n",
    "        break\n",
    "    else:\n",
    "        sayi = int(sayi)\n",
    "        \n",
    "            \n",
    "        if (asal_mi(sayi)):\n",
    "                print(sayi, \"asal bir sayıdır.\")\n",
    "                break\n",
    "        else:\n",
    "                print(sayi, \"asal bir sayı değildir.\")\n",
    "                break\n",
    "            "
   ]
  },
  {
   "cell_type": "code",
   "execution_count": null,
   "metadata": {},
   "outputs": [],
   "source": []
  },
  {
   "cell_type": "code",
   "execution_count": null,
   "metadata": {},
   "outputs": [],
   "source": []
  },
  {
   "cell_type": "code",
   "execution_count": null,
   "metadata": {},
   "outputs": [],
   "source": []
  },
  {
   "cell_type": "code",
   "execution_count": null,
   "metadata": {},
   "outputs": [],
   "source": []
  },
  {
   "cell_type": "code",
   "execution_count": null,
   "metadata": {},
   "outputs": [],
   "source": []
  },
  {
   "cell_type": "code",
   "execution_count": null,
   "metadata": {},
   "outputs": [],
   "source": []
  }
 ],
 "metadata": {
  "kernelspec": {
   "display_name": "Python 3",
   "language": "python",
   "name": "python3"
  },
  "language_info": {
   "codemirror_mode": {
    "name": "ipython",
    "version": 3
   },
   "file_extension": ".py",
   "mimetype": "text/x-python",
   "name": "python",
   "nbconvert_exporter": "python",
   "pygments_lexer": "ipython3",
   "version": "3.8.5"
  }
 },
 "nbformat": 4,
 "nbformat_minor": 4
}
