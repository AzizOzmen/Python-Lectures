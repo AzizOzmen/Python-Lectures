{
 "cells": [
  {
   "cell_type": "code",
   "execution_count": 1,
   "metadata": {},
   "outputs": [
    {
     "name": "stdout",
     "output_type": "stream",
     "text": [
      "35\n"
     ]
    }
   ],
   "source": [
    "print(35)"
   ]
  },
  {
   "cell_type": "code",
   "execution_count": 2,
   "metadata": {},
   "outputs": [
    {
     "name": "stdout",
     "output_type": "stream",
     "text": [
      "Lütfullah ders çalışıyor.\n"
     ]
    }
   ],
   "source": [
    "print(\"Lütfullah ders çalışıyor.\")"
   ]
  },
  {
   "cell_type": "code",
   "execution_count": 3,
   "metadata": {},
   "outputs": [
    {
     "data": {
      "text/plain": [
       "'Lütfullah ders çalışıyor'"
      ]
     },
     "execution_count": 3,
     "metadata": {},
     "output_type": "execute_result"
    }
   ],
   "source": [
    "\"Lütfullah ders çalışıyor\""
   ]
  },
  {
   "cell_type": "code",
   "execution_count": 5,
   "metadata": {},
   "outputs": [
    {
     "name": "stdout",
     "output_type": "stream",
     "text": [
      "19\n",
      "60\n",
      "19 60\n"
     ]
    }
   ],
   "source": [
    "a = 4\n",
    "b = 15\n",
    "print(a+b)\n",
    "print(a*b)\n",
    "print(a+b , a*b)"
   ]
  },
  {
   "cell_type": "code",
   "execution_count": 7,
   "metadata": {},
   "outputs": [
    {
     "name": "stdout",
     "output_type": "stream",
     "text": [
      "Lütfullah\n",
      "bugün\n",
      "ders çalışıyor\n"
     ]
    }
   ],
   "source": [
    "print(\"Lütfullah\\nbugün\\nders çalışıyor\")  # \\n alt satıra geçirir."
   ]
  },
  {
   "cell_type": "code",
   "execution_count": 9,
   "metadata": {},
   "outputs": [
    {
     "name": "stdout",
     "output_type": "stream",
     "text": [
      "Merhaba\t iyi misin\n"
     ]
    }
   ],
   "source": [
    "print(\"Merhaba\\t iyi misin\")  # \\t bir tab boşluk ya da 4 boşluk verir."
   ]
  },
  {
   "cell_type": "code",
   "execution_count": 13,
   "metadata": {},
   "outputs": [
    {
     "name": "stdout",
     "output_type": "stream",
     "text": [
      "Ocak\t\tŞubat\n",
      "\tMart\n"
     ]
    }
   ],
   "source": [
    "print(\"Ocak\\t\\tŞubat\\n\\tMart\")"
   ]
  },
  {
   "cell_type": "code",
   "execution_count": 14,
   "metadata": {},
   "outputs": [
    {
     "name": "stdout",
     "output_type": "stream",
     "text": [
      "<class 'int'>\n"
     ]
    }
   ],
   "source": [
    "print(type(a))"
   ]
  },
  {
   "cell_type": "code",
   "execution_count": 16,
   "metadata": {},
   "outputs": [
    {
     "name": "stdout",
     "output_type": "stream",
     "text": [
      "Lütfullah/39/yaşındadır\n"
     ]
    }
   ],
   "source": [
    "print(\"Lütfullah\", 39, \"yaşındadır\", sep = \"/\")  # sep=\"\" parametresi aralara istenilen değeri yazdırır."
   ]
  },
  {
   "cell_type": "code",
   "execution_count": 20,
   "metadata": {},
   "outputs": [
    {
     "name": "stdout",
     "output_type": "stream",
     "text": [
      "25.09.1993\n"
     ]
    }
   ],
   "source": [
    "print(\"25\",\"09\",\"1993\", sep = \".\")"
   ]
  },
  {
   "cell_type": "code",
   "execution_count": 23,
   "metadata": {},
   "outputs": [
    {
     "name": "stdout",
     "output_type": "stream",
     "text": [
      "L ü t f u l l a h\n"
     ]
    }
   ],
   "source": [
    "print(*\"Lütfullah\")  # stringin başına * koyarsak her karakteri ayırır."
   ]
  },
  {
   "cell_type": "code",
   "execution_count": 24,
   "metadata": {},
   "outputs": [
    {
     "name": "stdout",
     "output_type": "stream",
     "text": [
      "L.ü.t.f.u.l.l.a.h\n"
     ]
    }
   ],
   "source": [
    "print(*\"Lütfullah\", sep = \".\")"
   ]
  },
  {
   "cell_type": "code",
   "execution_count": 25,
   "metadata": {},
   "outputs": [
    {
     "name": "stdout",
     "output_type": "stream",
     "text": [
      "3 + 4 'nin toplamı 7'dır.\n"
     ]
    }
   ],
   "source": [
    "a = 3\n",
    "b = 4\n",
    "print(\"{} + {} 'nin toplamı {}'dır.\".format(a,b,a+b))"
   ]
  },
  {
   "cell_type": "code",
   "execution_count": 28,
   "metadata": {},
   "outputs": [
    {
     "name": "stdout",
     "output_type": "stream",
     "text": [
      "3.14 12.123\n"
     ]
    }
   ],
   "source": [
    "x = \"{:.2f} {:.3f}\".format(3.144423234, 12.1231231)\n",
    "print(x)"
   ]
  },
  {
   "cell_type": "code",
   "execution_count": null,
   "metadata": {},
   "outputs": [],
   "source": []
  },
  {
   "cell_type": "code",
   "execution_count": null,
   "metadata": {},
   "outputs": [],
   "source": []
  }
 ],
 "metadata": {
  "kernelspec": {
   "display_name": "Python 3",
   "language": "python",
   "name": "python3"
  },
  "language_info": {
   "codemirror_mode": {
    "name": "ipython",
    "version": 3
   },
   "file_extension": ".py",
   "mimetype": "text/x-python",
   "name": "python",
   "nbconvert_exporter": "python",
   "pygments_lexer": "ipython3",
   "version": "3.8.5"
  }
 },
 "nbformat": 4,
 "nbformat_minor": 4
}
