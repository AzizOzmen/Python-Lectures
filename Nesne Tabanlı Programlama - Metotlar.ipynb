{
 "cells": [
  {
   "cell_type": "code",
   "execution_count": 12,
   "metadata": {},
   "outputs": [],
   "source": [
    "class Yazılımcı():\n",
    "    def __init__(self,isim,soyisim,numara,maaş,diller):\n",
    "        self.isim = isim\n",
    "        self.soyisim = soyisim\n",
    "        self.numara = numara\n",
    "        self.maaş = maaş\n",
    "        self.diller = diller\n",
    "    \n",
    "    def bilgilerigöster(self):\n",
    "        print(\"\"\"\n",
    "        Yazılımcı objesinin özellikleri\n",
    "        \n",
    "        İsim :{}\n",
    "        \n",
    "        Soyisim: {}\n",
    "        \n",
    "        Numara: {}\n",
    "        \n",
    "        Maaş: {}\n",
    "        \n",
    "        Bildiği Diller: {}\n",
    "        \n",
    "        \"\"\".format(self.isim,self.soyisim,self.numara,self.maaş,self.diller))\n",
    "        \n",
    "    def zam_yap(self,zam_miktarı):\n",
    "        print(\"Zam Yapılıyor...\")\n",
    "        self.maaş += zam_miktarı\n",
    "\n",
    "    def dil_ekle(self,yeni_dil):\n",
    "        print(\"Dil Ekleniyor...\")\n",
    "        self.diller.append(yeni_dil)"
   ]
  },
  {
   "cell_type": "code",
   "execution_count": 13,
   "metadata": {},
   "outputs": [],
   "source": [
    "yazılımcı = Yazılımcı(\"Lütfullah\",\"ÇELENK\",1104,8000,[\"Python\",\"HTML\",\"CSS\"])"
   ]
  },
  {
   "cell_type": "code",
   "execution_count": 14,
   "metadata": {},
   "outputs": [
    {
     "data": {
      "text/plain": [
       "<__main__.Yazılımcı at 0x291378e7ee0>"
      ]
     },
     "execution_count": 14,
     "metadata": {},
     "output_type": "execute_result"
    }
   ],
   "source": [
    "yazılımcı"
   ]
  },
  {
   "cell_type": "code",
   "execution_count": 15,
   "metadata": {},
   "outputs": [
    {
     "name": "stdout",
     "output_type": "stream",
     "text": [
      "\n",
      "        Yazılımcı objesinin özellikleri\n",
      "        \n",
      "        İsim :Lütfullah\n",
      "        \n",
      "        Soyisim: ÇELENK\n",
      "        \n",
      "        Numara: 1104\n",
      "        \n",
      "        Maaş: 8000\n",
      "        \n",
      "        Bildiği Diller: ['Python', 'HTML', 'CSS']\n",
      "        \n",
      "        \n"
     ]
    }
   ],
   "source": [
    "yazılımcı.bilgilerigöster()"
   ]
  },
  {
   "cell_type": "code",
   "execution_count": 16,
   "metadata": {},
   "outputs": [
    {
     "name": "stdout",
     "output_type": "stream",
     "text": [
      "Dil Ekleniyor...\n"
     ]
    }
   ],
   "source": [
    "yazılımcı.dil_ekle(\"Javascript\")"
   ]
  },
  {
   "cell_type": "code",
   "execution_count": 17,
   "metadata": {},
   "outputs": [
    {
     "name": "stdout",
     "output_type": "stream",
     "text": [
      "\n",
      "        Yazılımcı objesinin özellikleri\n",
      "        \n",
      "        İsim :Lütfullah\n",
      "        \n",
      "        Soyisim: ÇELENK\n",
      "        \n",
      "        Numara: 1104\n",
      "        \n",
      "        Maaş: 8000\n",
      "        \n",
      "        Bildiği Diller: ['Python', 'HTML', 'CSS', 'Javascript']\n",
      "        \n",
      "        \n"
     ]
    }
   ],
   "source": [
    "yazılımcı.bilgilerigöster()"
   ]
  },
  {
   "cell_type": "code",
   "execution_count": 18,
   "metadata": {},
   "outputs": [
    {
     "name": "stdout",
     "output_type": "stream",
     "text": [
      "Zam Yapılıyor...\n"
     ]
    }
   ],
   "source": [
    "yazılımcı.zam_yap(500)"
   ]
  },
  {
   "cell_type": "code",
   "execution_count": 19,
   "metadata": {},
   "outputs": [
    {
     "name": "stdout",
     "output_type": "stream",
     "text": [
      "\n",
      "        Yazılımcı objesinin özellikleri\n",
      "        \n",
      "        İsim :Lütfullah\n",
      "        \n",
      "        Soyisim: ÇELENK\n",
      "        \n",
      "        Numara: 1104\n",
      "        \n",
      "        Maaş: 8500\n",
      "        \n",
      "        Bildiği Diller: ['Python', 'HTML', 'CSS', 'Javascript']\n",
      "        \n",
      "        \n"
     ]
    }
   ],
   "source": [
    "yazılımcı.bilgilerigöster()"
   ]
  },
  {
   "cell_type": "code",
   "execution_count": null,
   "metadata": {},
   "outputs": [],
   "source": []
  }
 ],
 "metadata": {
  "kernelspec": {
   "display_name": "Python 3",
   "language": "python",
   "name": "python3"
  },
  "language_info": {
   "codemirror_mode": {
    "name": "ipython",
    "version": 3
   },
   "file_extension": ".py",
   "mimetype": "text/x-python",
   "name": "python",
   "nbconvert_exporter": "python",
   "pygments_lexer": "ipython3",
   "version": "3.8.5"
  }
 },
 "nbformat": 4,
 "nbformat_minor": 4
}
