{
 "cells": [
  {
   "cell_type": "code",
   "execution_count": null,
   "metadata": {},
   "outputs": [],
   "source": [
    "1. Problemin çözümü"
   ]
  },
  {
   "cell_type": "code",
   "execution_count": 2,
   "metadata": {},
   "outputs": [
    {
     "name": "stdout",
     "output_type": "stream",
     "text": [
      "a: 3\n",
      "b: 4\n",
      "c: 5\n",
      "60\n",
      "3 * 4 * 5 = 60\n"
     ]
    }
   ],
   "source": [
    "a = int(input(\"a: \"))   # input fonksiyonu daima string değer çıkarır.\n",
    "b = int(input(\"b: \"))\n",
    "c = int(input(\"c: \")) \n",
    "output = a * b * c\n",
    "print(\"{}\".format(output))\n",
    "print(f\"{a} * {b} * {c} = {output}\")"
   ]
  },
  {
   "cell_type": "code",
   "execution_count": null,
   "metadata": {},
   "outputs": [],
   "source": [
    "2. problemin çözümü"
   ]
  },
  {
   "cell_type": "code",
   "execution_count": null,
   "metadata": {},
   "outputs": [],
   "source": [
    "height = float(input(\"Boyunuzu giriniz (örnek: 1.81): \"))\n",
    "weight = int(input(\"Kilonuzu giriniz (örnek: 98): \"))\n",
    "body_mass_index = weight / (height * height)\n",
    "print(\"body_mass_index: \", body_mass_index)"
   ]
  },
  {
   "cell_type": "code",
   "execution_count": null,
   "metadata": {},
   "outputs": [],
   "source": [
    "3. problemin çözümü"
   ]
  },
  {
   "cell_type": "code",
   "execution_count": null,
   "metadata": {},
   "outputs": [],
   "source": [
    "tumparam = 200\n",
    "urun_fiyati= 11\n",
    "toplam_alinabilen = tumparam // urun_fiyati\n",
    "kalan_para = tumparam % urun_fiyati\n",
    "print(\"{} TL para ile, her biri {} TL olan üründen, {} adet alabiliriz. Geriye kalan paramız {} TL'dir.\".format(tumparam, urun_fiyati, toplam_alinabilen, kalan_para))"
   ]
  },
  {
   "cell_type": "code",
   "execution_count": null,
   "metadata": {},
   "outputs": [],
   "source": [
    "4. problemin çözümü"
   ]
  },
  {
   "cell_type": "code",
   "execution_count": null,
   "metadata": {},
   "outputs": [],
   "source": [
    "bir_sayi = int(input(\"Birinci sayı giriniz: \"))\n",
    "iki_sayi = int(input(\"İkinci sayıyı giriniz:\"))\n",
    "\n",
    "print(\"Degisimden önce sayilarin değeri: {} {}\".format(bir_sayi, iki_sayi))\n",
    "\n",
    "bir_sayi, iki_sayi = iki_sayi, bir_sayi\n",
    "\n",
    "print(\"Degisimden sonra sayilarin degeri: {} {}\".format(bir_sayi, iki_sayi))\n"
   ]
  },
  {
   "cell_type": "code",
   "execution_count": null,
   "metadata": {},
   "outputs": [],
   "source": [
    "5. problemin çözümü"
   ]
  },
  {
   "cell_type": "code",
   "execution_count": 3,
   "metadata": {},
   "outputs": [
    {
     "name": "stdout",
     "output_type": "stream",
     "text": [
      "Bir sayı giriniz: 5\n",
      "Diğer sayıyı giriniz: 4\n",
      "5 in karesi ile 4 nin kareleri farkı = 9\n"
     ]
    }
   ],
   "source": [
    "x = int(input(\"Bir sayı giriniz: \"))\n",
    "y = int(input(\"Diğer sayıyı giriniz: \"))\n",
    "\n",
    "#(x-y)*(x+y) = (x**2) - (y**2)\n",
    "sonuc = (x**2) - (y**2)\n",
    "\n",
    "print(\"{} in karesi ile {} nin kareleri farkı = {}\".format(x, y, sonuc))"
   ]
  },
  {
   "cell_type": "code",
   "execution_count": null,
   "metadata": {},
   "outputs": [],
   "source": [
    "6. problemin çözümü"
   ]
  },
  {
   "cell_type": "code",
   "execution_count": 4,
   "metadata": {},
   "outputs": [
    {
     "name": "stdout",
     "output_type": "stream",
     "text": [
      "Kelimeyi giriniz: Lütfullah\n",
      "seperatorü giriniz: *\n",
      "tekrar sayısını giriniz: 4\n",
      "Lütfullah*Lütfullah*Lütfullah*Lütfullah\n"
     ]
    }
   ],
   "source": [
    "word = input(\"Kelimeyi giriniz: \")\n",
    "seperator = input(\"seperatorü giriniz: \")\n",
    "repetitions = int(input(\"tekrar sayısını giriniz: \"))\n",
    "\n",
    "while \n",
    "print(output)"
   ]
  },
  {
   "cell_type": "code",
   "execution_count": null,
   "metadata": {},
   "outputs": [],
   "source": [
    "word = input(\"Bir kelime giriniz: \")\n",
    "seperator = input(\"Bir ayraç giriniz: \")\n",
    "repetitions = int(input(\"Tekrar sayısını giriniz: \"))\n",
    "\n",
    "output = (word + seperator) * (repetitions -1) + word\n",
    "print(output)"
   ]
  },
  {
   "cell_type": "code",
   "execution_count": null,
   "metadata": {},
   "outputs": [],
   "source": [
    "7. problemin çözümü"
   ]
  },
  {
   "cell_type": "code",
   "execution_count": 10,
   "metadata": {},
   "outputs": [
    {
     "name": "stdout",
     "output_type": "stream",
     "text": [
      "False\n"
     ]
    }
   ],
   "source": [
    "print(True and False and (not True and False) and not (True or False))"
   ]
  },
  {
   "cell_type": "code",
   "execution_count": null,
   "metadata": {},
   "outputs": [],
   "source": [
    "8. problemin çözümü"
   ]
  },
  {
   "cell_type": "code",
   "execution_count": 9,
   "metadata": {},
   "outputs": [
    {
     "name": "stdout",
     "output_type": "stream",
     "text": [
      "False\n"
     ]
    }
   ],
   "source": [
    "print(True and False and not \"False\" and None and (\"None\" or None))"
   ]
  },
  {
   "cell_type": "code",
   "execution_count": null,
   "metadata": {},
   "outputs": [],
   "source": [
    "9. problemin çözümü"
   ]
  },
  {
   "cell_type": "code",
   "execution_count": 8,
   "metadata": {},
   "outputs": [
    {
     "name": "stdout",
     "output_type": "stream",
     "text": [
      "0\n"
     ]
    }
   ],
   "source": [
    "print(\"clarusway\" and 0 and not \"\" and False and (\" \" or None))"
   ]
  },
  {
   "cell_type": "code",
   "execution_count": null,
   "metadata": {},
   "outputs": [],
   "source": []
  },
  {
   "cell_type": "code",
   "execution_count": null,
   "metadata": {},
   "outputs": [],
   "source": []
  }
 ],
 "metadata": {
  "kernelspec": {
   "display_name": "Python 3",
   "language": "python",
   "name": "python3"
  },
  "language_info": {
   "codemirror_mode": {
    "name": "ipython",
    "version": 3
   },
   "file_extension": ".py",
   "mimetype": "text/x-python",
   "name": "python",
   "nbconvert_exporter": "python",
   "pygments_lexer": "ipython3",
   "version": "3.8.5"
  }
 },
 "nbformat": 4,
 "nbformat_minor": 4
}
