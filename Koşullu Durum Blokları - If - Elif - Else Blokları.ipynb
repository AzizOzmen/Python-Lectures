{
 "cells": [
  {
   "cell_type": "code",
   "execution_count": 1,
   "metadata": {},
   "outputs": [
    {
     "name": "stdout",
     "output_type": "stream",
     "text": [
      "işlem giriniz: 2\n",
      "İşlem 2 seçildi.\n"
     ]
    }
   ],
   "source": [
    "işlem = input(\"işlem giriniz: \")\n",
    "\n",
    "if işlem == \"1\":\n",
    "    print(\"İşlem 1 seçildi.\")\n",
    "elif işlem == \"2\":\n",
    "    print(\"İşlem 2 seçildi.\")\n",
    "elif işlem == \"3\":\n",
    "    print(\"İşlem 3 seçildi.\")\n",
    "elif işlem == \"4\":\n",
    "    print(\"İşlem 4 seçildi.\")\n",
    "    \n",
    "else:\n",
    "    print(\"Geçersiz işlem\")"
   ]
  },
  {
   "cell_type": "code",
   "execution_count": 2,
   "metadata": {},
   "outputs": [
    {
     "name": "stdout",
     "output_type": "stream",
     "text": [
      "işlem giriniz: 7\n",
      "Geçersiz işlem\n"
     ]
    }
   ],
   "source": [
    "işlem = input(\"işlem giriniz: \")\n",
    "\n",
    "if işlem == \"1\":\n",
    "    print(\"İşlem 1 seçildi.\")\n",
    "elif işlem == \"2\":\n",
    "    print(\"İşlem 2 seçildi.\")\n",
    "elif işlem == \"3\":\n",
    "    print(\"İşlem 3 seçildi.\")\n",
    "elif işlem == \"4\":\n",
    "    print(\"İşlem 4 seçildi.\")\n",
    "    \n",
    "else:\n",
    "    print(\"Geçersiz işlem\")"
   ]
  },
  {
   "cell_type": "code",
   "execution_count": 5,
   "metadata": {},
   "outputs": [
    {
     "name": "stdout",
     "output_type": "stream",
     "text": [
      "Notunuzu giriniz: 75\n",
      "Notunuz: CB\n"
     ]
    }
   ],
   "source": [
    "note = float(input(\"Notunuzu giriniz: \"))\n",
    "\n",
    "if (note >= 90):\n",
    "    print(\"Notunuz: AA\")\n",
    "elif (note>= 85):\n",
    "    print(\"Notunuz: BA\")\n",
    "elif (note>= 80):\n",
    "    print(\"Notunuz: BB\")\n",
    "elif (note>= 75):\n",
    "    print(\"Notunuz: CB\")\n",
    "elif (note>= 70):\n",
    "    print(\"Notunuz: CC\")\n",
    "elif (note>= 65):\n",
    "    print(\"Notunuz: DC\")\n",
    "elif (note>= 60):\n",
    "    print(\"Notunuz: DD\")\n",
    "else:\n",
    "    print(\"Kaldınız...\")\n",
    "    "
   ]
  },
  {
   "cell_type": "code",
   "execution_count": 6,
   "metadata": {},
   "outputs": [
    {
     "name": "stdout",
     "output_type": "stream",
     "text": [
      "Notunuzu giriniz: 74\n",
      "Notunuz: CC\n",
      "Notunuz: DC\n",
      "Notunuz: DD\n"
     ]
    }
   ],
   "source": [
    "note = float(input(\"Notunuzu giriniz: \"))\n",
    "\n",
    "if (note >= 90):\n",
    "    print(\"Notunuz: AA\")\n",
    "if (note>= 85):\n",
    "    print(\"Notunuz: BA\")\n",
    "if (note>= 80):\n",
    "    print(\"Notunuz: BB\")\n",
    "if (note>= 75):\n",
    "    print(\"Notunuz: CB\")\n",
    "if (note>= 70):\n",
    "    print(\"Notunuz: CC\")\n",
    "if (note>= 65):\n",
    "    print(\"Notunuz: DC\")\n",
    "if (note>= 60):\n",
    "    print(\"Notunuz: DD\")\n",
    "else:\n",
    "    print(\"Kaldınız...\")"
   ]
  },
  {
   "cell_type": "code",
   "execution_count": null,
   "metadata": {},
   "outputs": [],
   "source": []
  },
  {
   "cell_type": "code",
   "execution_count": null,
   "metadata": {},
   "outputs": [],
   "source": []
  },
  {
   "cell_type": "code",
   "execution_count": null,
   "metadata": {},
   "outputs": [],
   "source": []
  },
  {
   "cell_type": "code",
   "execution_count": null,
   "metadata": {},
   "outputs": [],
   "source": []
  },
  {
   "cell_type": "code",
   "execution_count": null,
   "metadata": {},
   "outputs": [],
   "source": []
  },
  {
   "cell_type": "code",
   "execution_count": null,
   "metadata": {},
   "outputs": [],
   "source": []
  },
  {
   "cell_type": "code",
   "execution_count": null,
   "metadata": {},
   "outputs": [],
   "source": []
  },
  {
   "cell_type": "code",
   "execution_count": null,
   "metadata": {},
   "outputs": [],
   "source": []
  },
  {
   "cell_type": "code",
   "execution_count": null,
   "metadata": {},
   "outputs": [],
   "source": []
  },
  {
   "cell_type": "code",
   "execution_count": null,
   "metadata": {},
   "outputs": [],
   "source": []
  },
  {
   "cell_type": "code",
   "execution_count": null,
   "metadata": {},
   "outputs": [],
   "source": []
  },
  {
   "cell_type": "code",
   "execution_count": null,
   "metadata": {},
   "outputs": [],
   "source": []
  },
  {
   "cell_type": "code",
   "execution_count": null,
   "metadata": {},
   "outputs": [],
   "source": []
  },
  {
   "cell_type": "code",
   "execution_count": null,
   "metadata": {},
   "outputs": [],
   "source": []
  }
 ],
 "metadata": {
  "kernelspec": {
   "display_name": "Python 3",
   "language": "python",
   "name": "python3"
  },
  "language_info": {
   "codemirror_mode": {
    "name": "ipython",
    "version": 3
   },
   "file_extension": ".py",
   "mimetype": "text/x-python",
   "name": "python",
   "nbconvert_exporter": "python",
   "pygments_lexer": "ipython3",
   "version": "3.8.5"
  }
 },
 "nbformat": 4,
 "nbformat_minor": 4
}
