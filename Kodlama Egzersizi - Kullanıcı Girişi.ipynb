{
 "cells": [
  {
   "cell_type": "code",
   "execution_count": 9,
   "metadata": {},
   "outputs": [
    {
     "name": "stdout",
     "output_type": "stream",
     "text": [
      "*********************\n",
      "Kullanıcı Girişi\n",
      "*********************\n",
      "\n",
      "Kullanıcı adınızı giriniz: Cansu\n",
      "Parola giriniz: 12345\n",
      "Sisteme başarılı bir şekilde girilmiştir.\n"
     ]
    }
   ],
   "source": [
    "print(\"\"\"*********************\n",
    "Kullanıcı Girişi\n",
    "*********************\n",
    "\"\"\")\n",
    "\n",
    "sys_kullanıcı_adı = \"Cansu\"\n",
    "sys_kullanıcı_parola = \"12345\"\n",
    "\n",
    "kullanıcı_adı = input(\"Kullanıcı adınızı giriniz: \")\n",
    "kullanıcı_parola = input(\"Parola giriniz: \")\n",
    "\n",
    "if (kullanıcı_adı == sys_kullanıcı_adı and kullanıcı_parola != sys_kullanıcı_parola):\n",
    "    print(\"Parolanı hatalıdır.\")\n",
    "elif (kullanıcı_adı != sys_kullanıcı_adı and kullanıcı_parola == sys_kullanıcı_parola):\n",
    "    print(\"Kullanıcı adı hatalıdır.\")\n",
    "elif (kullanıcı_adı != sys_kullanıcı_adı and kullanıcı_parola != sys_kullanıcı_parola):\n",
    "    print(\"Kullanıcı adı ve parola hatalıdır.\")\n",
    "else :\n",
    "    print(\"Sisteme başarılı bir şekilde girilmiştir.\")"
   ]
  },
  {
   "cell_type": "code",
   "execution_count": null,
   "metadata": {},
   "outputs": [],
   "source": []
  },
  {
   "cell_type": "code",
   "execution_count": null,
   "metadata": {},
   "outputs": [],
   "source": []
  }
 ],
 "metadata": {
  "kernelspec": {
   "display_name": "Python 3",
   "language": "python",
   "name": "python3"
  },
  "language_info": {
   "codemirror_mode": {
    "name": "ipython",
    "version": 3
   },
   "file_extension": ".py",
   "mimetype": "text/x-python",
   "name": "python",
   "nbconvert_exporter": "python",
   "pygments_lexer": "ipython3",
   "version": "3.8.5"
  }
 },
 "nbformat": 4,
 "nbformat_minor": 4
}
