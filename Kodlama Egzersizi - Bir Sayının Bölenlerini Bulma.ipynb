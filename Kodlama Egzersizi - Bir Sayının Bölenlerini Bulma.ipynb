{
 "cells": [
  {
   "cell_type": "code",
   "execution_count": 11,
   "metadata": {},
   "outputs": [
    {
     "name": "stdout",
     "output_type": "stream",
     "text": [
      "\n",
      "**************\n",
      "Bir Sayının Tam Bölenlerini Bulma\n",
      "**************\n",
      "\n",
      "Sayı giriniz: 12\n",
      "Tam Bölenler:  [2, 3, 4, 6]\n",
      "Sayı giriniz: 13\n",
      "Tam Bölenler:  []\n",
      "Sayı giriniz: 25\n",
      "Tam Bölenler:  [5]\n",
      "Sayı giriniz: 50\n",
      "Tam Bölenler:  [2, 5, 10, 25]\n",
      "Sayı giriniz: 60\n",
      "Tam Bölenler:  [2, 3, 4, 5, 6, 10, 12, 15, 20, 30]\n",
      "Sayı giriniz: q\n",
      "Programdan çıkılıyor...\n"
     ]
    }
   ],
   "source": [
    "print(\"\"\"\n",
    "**************\n",
    "Bir Sayının Tam Bölenlerini Bulma\n",
    "**************\n",
    "\"\"\")\n",
    "def tambölenleribulma(sayı):\n",
    "    tam_bölenler = []\n",
    "\n",
    "    for i in range(2,sayı):\n",
    "        if (sayı % i == 0):\n",
    "            \n",
    "            tam_bölenler.append(i)\n",
    "    \n",
    "    return tam_bölenler\n",
    "\n",
    "while True:\n",
    "    sayı = input(\"Sayı giriniz: \")\n",
    "    \n",
    "    if (sayı == \"q\"):\n",
    "        print(\"Programdan çıkılıyor...\")\n",
    "        break\n",
    "    else:\n",
    "        sayı = int(sayı)\n",
    "        print(\"Tam Bölenler: \",tambölenleribulma(sayı))\n",
    "    \n",
    "        "
   ]
  },
  {
   "cell_type": "code",
   "execution_count": null,
   "metadata": {},
   "outputs": [],
   "source": []
  },
  {
   "cell_type": "code",
   "execution_count": null,
   "metadata": {},
   "outputs": [],
   "source": []
  },
  {
   "cell_type": "code",
   "execution_count": null,
   "metadata": {},
   "outputs": [],
   "source": []
  },
  {
   "cell_type": "code",
   "execution_count": null,
   "metadata": {},
   "outputs": [],
   "source": []
  }
 ],
 "metadata": {
  "kernelspec": {
   "display_name": "Python 3",
   "language": "python",
   "name": "python3"
  },
  "language_info": {
   "codemirror_mode": {
    "name": "ipython",
    "version": 3
   },
   "file_extension": ".py",
   "mimetype": "text/x-python",
   "name": "python",
   "nbconvert_exporter": "python",
   "pygments_lexer": "ipython3",
   "version": "3.8.5"
  }
 },
 "nbformat": 4,
 "nbformat_minor": 4
}
