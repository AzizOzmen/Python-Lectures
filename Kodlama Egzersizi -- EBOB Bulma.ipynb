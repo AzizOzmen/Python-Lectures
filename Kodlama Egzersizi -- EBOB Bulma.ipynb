{
 "cells": [
  {
   "cell_type": "code",
   "execution_count": 9,
   "metadata": {},
   "outputs": [
    {
     "name": "stdout",
     "output_type": "stream",
     "text": [
      "Sayı-1: 12\n",
      "Sayı-2: 20\n",
      "Ebob:  8\n"
     ]
    }
   ],
   "source": [
    "def ebob_bulma(sayı1,sayı2):\n",
    "    i = 1\n",
    "    ebob = 1\n",
    "    \n",
    "    while (i <= sayı1 and i<= sayı2 ):\n",
    "        \n",
    "        if (sayı1 < sayı2):\n",
    "            for i in range(1,sayı2):\n",
    "                if (sayı1%i == 0 and sayı2%i == 0):\n",
    "                    ebob *= i\n",
    "                \n",
    "        elif(sayı2 > sayı1):\n",
    "            \n",
    "            for i in range(1,sayı1):\n",
    "                if (sayı%i == 0 and sayı2%i == 0):\n",
    "                    ebob *= i\n",
    "                    return i\n",
    "        else:\n",
    "            print(\"\")\n",
    "    return ebob\n",
    "\n",
    "sayı1= int(input(\"Sayı-1: \"))\n",
    "sayı2 = int(input(\"Sayı-2: \"))\n",
    "\n",
    "print(\"Ebob: \",ebob_bulma(sayı1,sayı2))"
   ]
  },
  {
   "cell_type": "code",
   "execution_count": null,
   "metadata": {},
   "outputs": [],
   "source": []
  },
  {
   "cell_type": "code",
   "execution_count": null,
   "metadata": {},
   "outputs": [],
   "source": []
  },
  {
   "cell_type": "code",
   "execution_count": null,
   "metadata": {},
   "outputs": [],
   "source": []
  },
  {
   "cell_type": "code",
   "execution_count": null,
   "metadata": {},
   "outputs": [],
   "source": []
  },
  {
   "cell_type": "code",
   "execution_count": null,
   "metadata": {},
   "outputs": [],
   "source": []
  }
 ],
 "metadata": {
  "kernelspec": {
   "display_name": "Python 3",
   "language": "python",
   "name": "python3"
  },
  "language_info": {
   "codemirror_mode": {
    "name": "ipython",
    "version": 3
   },
   "file_extension": ".py",
   "mimetype": "text/x-python",
   "name": "python",
   "nbconvert_exporter": "python",
   "pygments_lexer": "ipython3",
   "version": "3.8.5"
  }
 },
 "nbformat": 4,
 "nbformat_minor": 4
}
