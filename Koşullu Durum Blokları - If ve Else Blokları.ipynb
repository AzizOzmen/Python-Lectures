{
 "cells": [
  {
   "cell_type": "code",
   "execution_count": 1,
   "metadata": {},
   "outputs": [
    {
     "name": "stdout",
     "output_type": "stream",
     "text": [
      "2\n",
      "Merhaba\n"
     ]
    }
   ],
   "source": [
    "a = 2  # Blok 1 e ait bir kod.\n",
    "if (a == 2):\n",
    "    print(a)  #Blok 2 ye ait bir kod.\n",
    "print(\"Merhaba\")  # Blok 1 e ait bir kod. "
   ]
  },
  {
   "cell_type": "code",
   "execution_count": 2,
   "metadata": {},
   "outputs": [
    {
     "name": "stdout",
     "output_type": "stream",
     "text": [
      "Merhaba\n"
     ]
    }
   ],
   "source": [
    "a = 2  # Blok 1 e ait bir kod.\n",
    "if (a == 3):\n",
    "    print(a)  #Blok 2 ye ait bir kod.\n",
    "print(\"Merhaba\")  # Blok 1 e ait bir kod. "
   ]
  },
  {
   "cell_type": "code",
   "execution_count": null,
   "metadata": {},
   "outputs": [],
   "source": []
  },
  {
   "cell_type": "code",
   "execution_count": 5,
   "metadata": {},
   "outputs": [
    {
     "name": "stdout",
     "output_type": "stream",
     "text": [
      "Yaşınızı giriniz: 17\n",
      "Yaşınız tutmuyor, mekana giremezsiniz.\n"
     ]
    }
   ],
   "source": [
    "yaş = int(input(\"Yaşınızı giriniz: \"))\n",
    "\n",
    "if (yaş < 18):\n",
    "    print(\"Yaşınız tutmuyor, mekana giremezsiniz.\")\n",
    "    "
   ]
  },
  {
   "cell_type": "code",
   "execution_count": 6,
   "metadata": {},
   "outputs": [
    {
     "name": "stdout",
     "output_type": "stream",
     "text": [
      "Yaşınızı giriniz: 19\n"
     ]
    }
   ],
   "source": [
    "yaş = int(input(\"Yaşınızı giriniz: \"))\n",
    "\n",
    "if (yaş < 18):\n",
    "    print(\"Yaşınız tutmuyor, mekana giremezsiniz.\")\n",
    "    "
   ]
  },
  {
   "cell_type": "code",
   "execution_count": 8,
   "metadata": {},
   "outputs": [
    {
     "name": "stdout",
     "output_type": "stream",
     "text": [
      "Yaşınızı giriniz: 18\n",
      "Mekana Hoşgeldiniz.\n"
     ]
    }
   ],
   "source": [
    "yaş = int(input(\"Yaşınızı giriniz: \"))\n",
    "\n",
    "if (yaş < 18):\n",
    "    print(\"Yaşınız tutmuyor, mekana giremezsiniz.\")\n",
    "else:\n",
    "    print(\"Mekana Hoşgeldiniz.\")"
   ]
  },
  {
   "cell_type": "code",
   "execution_count": 10,
   "metadata": {},
   "outputs": [
    {
     "name": "stdout",
     "output_type": "stream",
     "text": [
      "Bir sayı giriniz: -2\n",
      "Negatif sayı\n"
     ]
    }
   ],
   "source": [
    "sayı = int(input(\"Bir sayı giriniz: \"))\n",
    "if (sayı<0):\n",
    "    print(\"Negatif sayı\")\n",
    "else:\n",
    "    print(\"Sıfır ve ya Pozitif Sayı\")"
   ]
  },
  {
   "cell_type": "code",
   "execution_count": null,
   "metadata": {},
   "outputs": [],
   "source": []
  },
  {
   "cell_type": "code",
   "execution_count": null,
   "metadata": {},
   "outputs": [],
   "source": []
  },
  {
   "cell_type": "code",
   "execution_count": null,
   "metadata": {},
   "outputs": [],
   "source": []
  },
  {
   "cell_type": "code",
   "execution_count": null,
   "metadata": {},
   "outputs": [],
   "source": []
  },
  {
   "cell_type": "code",
   "execution_count": null,
   "metadata": {},
   "outputs": [],
   "source": []
  },
  {
   "cell_type": "code",
   "execution_count": null,
   "metadata": {},
   "outputs": [],
   "source": []
  },
  {
   "cell_type": "code",
   "execution_count": null,
   "metadata": {},
   "outputs": [],
   "source": []
  }
 ],
 "metadata": {
  "kernelspec": {
   "display_name": "Python 3",
   "language": "python",
   "name": "python3"
  },
  "language_info": {
   "codemirror_mode": {
    "name": "ipython",
    "version": 3
   },
   "file_extension": ".py",
   "mimetype": "text/x-python",
   "name": "python",
   "nbconvert_exporter": "python",
   "pygments_lexer": "ipython3",
   "version": "3.8.5"
  }
 },
 "nbformat": 4,
 "nbformat_minor": 4
}
