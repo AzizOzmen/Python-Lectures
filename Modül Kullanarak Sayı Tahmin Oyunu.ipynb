{
 "cells": [
  {
   "cell_type": "code",
   "execution_count": 5,
   "metadata": {},
   "outputs": [
    {
     "name": "stdout",
     "output_type": "stream",
     "text": [
      "\n",
      "********************\n",
      "Sayı Tahmin oyunu\n",
      "\n",
      "1 ile 40 arasında bir sayıyı tahmin edin.\n",
      "\n",
      "********************\n",
      "\n",
      "Tahmininiz: 20\n",
      "Bilgiler sorgulanıyor...\n",
      "Daha düşük bir sayı söyleyiniz...\n",
      "Tahmininiz: 10\n",
      "Bilgiler sorgulanıyor...\n",
      "Daha yüksek bir sayı söyleyiniz...\n",
      "Tahmininiz: 15\n",
      "Bilgiler sorgulanıyor...\n",
      "Daha yüksek bir sayı söyleyiniz...\n",
      "Tahmininiz: 18\n",
      "Bilgiler sorgulanıyor...\n",
      "Daha düşük bir sayı söyleyiniz...\n",
      "Tahmininiz: 17\n",
      "Bilgiler sorgulanıyor...\n",
      "Daha düşük bir sayı söyleyiniz...\n",
      "Tahmininiz: 16\n",
      "Bilgiler sorgulanıyor...\n",
      "Tebrikler! Sayı:  16\n"
     ]
    }
   ],
   "source": [
    "import random\n",
    "import time\n",
    "\n",
    "print(\"\"\"\n",
    "********************\n",
    "Sayı Tahmin oyunu\n",
    "\n",
    "1 ile 40 arasında bir sayıyı tahmin edin.\n",
    "\n",
    "********************\n",
    "\"\"\")\n",
    "\n",
    "rastgele_sayı = random.randint(1,40)\n",
    "tahmin_hakkı = 7\n",
    "\n",
    "while True:\n",
    "        tahmin = int(input(\"Tahmininiz: \"))\n",
    "        \n",
    "        if (tahmin < rastgele_sayı):\n",
    "            print(\"Bilgiler sorgulanıyor...\")\n",
    "            time.sleep(1)\n",
    "            \n",
    "            print(\"Daha yüksek bir sayı söyleyiniz...\")\n",
    "            \n",
    "            tahmin_hakkı -= 1\n",
    "        \n",
    "        elif (tahmin > rastgele_sayı):\n",
    "            print(\"Bilgiler sorgulanıyor...\")\n",
    "            time.sleep(1)\n",
    "            \n",
    "            print(\"Daha düşük bir sayı söyleyiniz...\")\n",
    "            \n",
    "            tahmin_hakkı -= 1\n",
    "        else:\n",
    "            print(\"Bilgiler sorgulanıyor...\")\n",
    "            time.sleep(1)\n",
    "            print(\"Tebrikler! Sayı: \",rastgele_sayı)\n",
    "            break\n",
    "        if (tahmin_hakkı == 0):\n",
    "            print(\"Tahmin hakkınız bitmiştir...\")\n",
    "            print(\"Sayınız : \",rastgele_sayı)\n",
    "    "
   ]
  },
  {
   "cell_type": "code",
   "execution_count": null,
   "metadata": {},
   "outputs": [],
   "source": []
  }
 ],
 "metadata": {
  "kernelspec": {
   "display_name": "Python 3",
   "language": "python",
   "name": "python3"
  },
  "language_info": {
   "codemirror_mode": {
    "name": "ipython",
    "version": 3
   },
   "file_extension": ".py",
   "mimetype": "text/x-python",
   "name": "python",
   "nbconvert_exporter": "python",
   "pygments_lexer": "ipython3",
   "version": "3.8.5"
  }
 },
 "nbformat": 4,
 "nbformat_minor": 4
}
