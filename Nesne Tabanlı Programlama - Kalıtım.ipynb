{
 "cells": [
  {
   "cell_type": "code",
   "execution_count": 2,
   "metadata": {},
   "outputs": [],
   "source": [
    "class Çalışan():\n",
    "    def __init__(self,isim,maaş,departman):\n",
    "        print(\"Çalışan fonksiyonunun init fonksiyonu\")\n",
    "        self.isim = isim\n",
    "        self.maaş = maaş\n",
    "        self.departman = departman\n",
    "        \n",
    "    def bilgilerigöster(self):\n",
    "        print(\"çalışan sınıfının bilgileri...\")\n",
    "        print(\"İsim: {} \\nMaaş: {} \\nDepartman: {}\".format(self.isim,self.maaş,self.departman))\n",
    "        \n",
    "    def departman_değiştir(self,yeni):\n",
    "        self.departman = yeni"
   ]
  },
  {
   "cell_type": "code",
   "execution_count": 3,
   "metadata": {},
   "outputs": [],
   "source": [
    "class Yönetici(Çalışan):  # böylece çalışan classını kopyaladık.\n",
    "    pass"
   ]
  },
  {
   "cell_type": "code",
   "execution_count": null,
   "metadata": {},
   "outputs": [],
   "source": []
  },
  {
   "cell_type": "code",
   "execution_count": 4,
   "metadata": {},
   "outputs": [
    {
     "name": "stdout",
     "output_type": "stream",
     "text": [
      "Çalışan fonksiyonunun init fonksiyonu\n"
     ]
    }
   ],
   "source": [
    "yönetici = Yönetici(\"Lütfullah ÇELENK\",8500,\"FullStack Developer\")"
   ]
  },
  {
   "cell_type": "code",
   "execution_count": 5,
   "metadata": {},
   "outputs": [
    {
     "name": "stdout",
     "output_type": "stream",
     "text": [
      "çalışan sınıfının bilgileri...\n",
      "İsim: Lütfullah ÇELENK \n",
      "Maaş: 8500 \n",
      "Departman: FullStack Developer\n"
     ]
    }
   ],
   "source": [
    "yönetici.bilgilerigöster()"
   ]
  },
  {
   "cell_type": "code",
   "execution_count": 6,
   "metadata": {},
   "outputs": [],
   "source": [
    "yönetici.departman_değiştir(\"İnsan Kaynakları\")"
   ]
  },
  {
   "cell_type": "code",
   "execution_count": 7,
   "metadata": {},
   "outputs": [
    {
     "name": "stdout",
     "output_type": "stream",
     "text": [
      "çalışan sınıfının bilgileri...\n",
      "İsim: Lütfullah ÇELENK \n",
      "Maaş: 8500 \n",
      "Departman: İnsan Kaynakları\n"
     ]
    }
   ],
   "source": [
    "yönetici.bilgilerigöster()"
   ]
  },
  {
   "cell_type": "code",
   "execution_count": 8,
   "metadata": {},
   "outputs": [
    {
     "data": {
      "text/plain": [
       "['__class__',\n",
       " '__delattr__',\n",
       " '__dict__',\n",
       " '__dir__',\n",
       " '__doc__',\n",
       " '__eq__',\n",
       " '__format__',\n",
       " '__ge__',\n",
       " '__getattribute__',\n",
       " '__gt__',\n",
       " '__hash__',\n",
       " '__init__',\n",
       " '__init_subclass__',\n",
       " '__le__',\n",
       " '__lt__',\n",
       " '__module__',\n",
       " '__ne__',\n",
       " '__new__',\n",
       " '__reduce__',\n",
       " '__reduce_ex__',\n",
       " '__repr__',\n",
       " '__setattr__',\n",
       " '__sizeof__',\n",
       " '__str__',\n",
       " '__subclasshook__',\n",
       " '__weakref__',\n",
       " 'bilgilerigöster',\n",
       " 'departman',\n",
       " 'departman_değiştir',\n",
       " 'isim',\n",
       " 'maaş']"
      ]
     },
     "execution_count": 8,
     "metadata": {},
     "output_type": "execute_result"
    }
   ],
   "source": [
    "dir(yönetici)"
   ]
  },
  {
   "cell_type": "code",
   "execution_count": 9,
   "metadata": {},
   "outputs": [],
   "source": [
    "class Yönetici(Çalışan):\n",
    "    def zam_yap(self,zam_miktarı):\n",
    "        self.maaş += zam_miktarı"
   ]
  },
  {
   "cell_type": "code",
   "execution_count": 10,
   "metadata": {},
   "outputs": [
    {
     "name": "stdout",
     "output_type": "stream",
     "text": [
      "Çalışan fonksiyonunun init fonksiyonu\n"
     ]
    }
   ],
   "source": [
    "yönetici = Yönetici(\"Cansu ÇELENK\",6500,\"Gelir Uzmanı\")"
   ]
  },
  {
   "cell_type": "code",
   "execution_count": 11,
   "metadata": {},
   "outputs": [
    {
     "name": "stdout",
     "output_type": "stream",
     "text": [
      "çalışan sınıfının bilgileri...\n",
      "İsim: Cansu ÇELENK \n",
      "Maaş: 6500 \n",
      "Departman: Gelir Uzmanı\n"
     ]
    }
   ],
   "source": [
    "yönetici.bilgilerigöster()"
   ]
  },
  {
   "cell_type": "code",
   "execution_count": 12,
   "metadata": {},
   "outputs": [],
   "source": [
    "yönetici.zam_yap(750)"
   ]
  },
  {
   "cell_type": "code",
   "execution_count": 13,
   "metadata": {},
   "outputs": [
    {
     "name": "stdout",
     "output_type": "stream",
     "text": [
      "çalışan sınıfının bilgileri...\n",
      "İsim: Cansu ÇELENK \n",
      "Maaş: 7250 \n",
      "Departman: Gelir Uzmanı\n"
     ]
    }
   ],
   "source": [
    "yönetici.bilgilerigöster()"
   ]
  },
  {
   "cell_type": "markdown",
   "metadata": {},
   "source": [
    "####  Override Kullanımı"
   ]
  },
  {
   "cell_type": "code",
   "execution_count": 14,
   "metadata": {},
   "outputs": [],
   "source": [
    "class Çalışan():\n",
    "    def __init__(self,isim,maaş,departman):\n",
    "        print(\"Çalışan fonksiyonunun init fonksiyonu\")\n",
    "        self.isim = isim\n",
    "        self.maaş = maaş\n",
    "        self.departman = departman\n",
    "        \n",
    "    def bilgilerigöster(self):\n",
    "        print(\"çalışan sınıfının bilgileri...\")\n",
    "        print(\"İsim: {} \\nMaaş: {} \\nDepartman: {}\".format(self.isim,self.maaş,self.departman))\n",
    "        \n",
    "    def departman_değiştir(self,yeni):\n",
    "        self.departman = yeni"
   ]
  },
  {
   "cell_type": "code",
   "execution_count": 15,
   "metadata": {},
   "outputs": [],
   "source": [
    "class Yönetici(Çalışan):\n",
    "    def __init__(self,isim,maaş,departman,kişi):\n",
    "        print(\"Yönetici fonksiyonunun init fonksiyonu\")\n",
    "        self.isim = isim\n",
    "        self.maaş = maaş\n",
    "        self.departman = departman\n",
    "        self.kişi = kişi\n",
    "        \n",
    "    def bilgilerigöster(self):\n",
    "        print(\"çalışan sınıfının bilgileri...\")\n",
    "        print(\"İsim: {} \\nMaaş: {} \\nDepartman: {} \\nSorumlu Olduğu Kişi Sayısı: {}\"\n",
    "              .format(self.isim,self.maaş,self.departman,self.kişi))\n",
    "        \n",
    "    def zam_yap(self,zam_miktarı):\n",
    "        self.maaş += zam_miktarı"
   ]
  },
  {
   "cell_type": "code",
   "execution_count": 16,
   "metadata": {},
   "outputs": [
    {
     "name": "stdout",
     "output_type": "stream",
     "text": [
      "Yönetici fonksiyonunun init fonksiyonu\n"
     ]
    }
   ],
   "source": [
    "yönetici2 = Yönetici(\"Lütfü ÇELENK\",8900,\"Full-Stack Developer\",12)"
   ]
  },
  {
   "cell_type": "code",
   "execution_count": 17,
   "metadata": {},
   "outputs": [
    {
     "name": "stdout",
     "output_type": "stream",
     "text": [
      "çalışan sınıfının bilgileri...\n",
      "İsim: Lütfü ÇELENK \n",
      "Maaş: 8900 \n",
      "Departman: Full-Stack Developer \n",
      "Sorumlu Olduğu Kişi Sayısı: 12\n"
     ]
    }
   ],
   "source": [
    "yönetici2.bilgilerigöster()"
   ]
  },
  {
   "cell_type": "code",
   "execution_count": 18,
   "metadata": {},
   "outputs": [],
   "source": [
    "yönetici2.zam_yap(1200)"
   ]
  },
  {
   "cell_type": "code",
   "execution_count": 19,
   "metadata": {},
   "outputs": [
    {
     "name": "stdout",
     "output_type": "stream",
     "text": [
      "çalışan sınıfının bilgileri...\n",
      "İsim: Lütfü ÇELENK \n",
      "Maaş: 10100 \n",
      "Departman: Full-Stack Developer \n",
      "Sorumlu Olduğu Kişi Sayısı: 12\n"
     ]
    }
   ],
   "source": [
    "yönetici2.bilgilerigöster()"
   ]
  },
  {
   "cell_type": "markdown",
   "metadata": {},
   "source": [
    "####  Super Anahtar Kelimesi"
   ]
  },
  {
   "cell_type": "code",
   "execution_count": 20,
   "metadata": {},
   "outputs": [],
   "source": [
    "class Çalışan():\n",
    "    def __init__(self,isim,maaş,departman):\n",
    "        print(\"Çalışan fonksiyonunun init fonksiyonu\")\n",
    "        self.isim = isim\n",
    "        self.maaş = maaş\n",
    "        self.departman = departman\n",
    "        \n",
    "    def bilgilerigöster(self):\n",
    "        print(\"çalışan sınıfının bilgileri...\")\n",
    "        print(\"İsim: {} \\nMaaş: {} \\nDepartman: {}\".format(self.isim,self.maaş,self.departman))\n",
    "        \n",
    "    def departman_değiştir(self,yeni):\n",
    "        self.departman = yeni"
   ]
  },
  {
   "cell_type": "code",
   "execution_count": 21,
   "metadata": {},
   "outputs": [],
   "source": [
    "class Yönetici(Çalışan):\n",
    "    def __init__(self,isim,maaş,departman,kişi):\n",
    "        print(\"Yönetici fonksiyonunun init fonksiyonu\")\n",
    "        super().__init__(isim,maaş,departman)\n",
    "        \n",
    "        self.kişi = kişi\n",
    "        \n",
    "    def bilgilerigöster(self):\n",
    "        print(\"çalışan sınıfının bilgileri...\")\n",
    "        print(\"İsim: {} \\nMaaş: {} \\nDepartman: {} \\nSorumlu Olduğu Kişi Sayısı: {}\"\n",
    "              .format(self.isim,self.maaş,self.departman,self.kişi))\n",
    "        \n",
    "    def zam_yap(self,zam_miktarı):\n",
    "        self.maaş += zam_miktarı"
   ]
  },
  {
   "cell_type": "code",
   "execution_count": null,
   "metadata": {},
   "outputs": [],
   "source": []
  },
  {
   "cell_type": "code",
   "execution_count": 23,
   "metadata": {},
   "outputs": [
    {
     "name": "stdout",
     "output_type": "stream",
     "text": [
      "Yönetici fonksiyonunun init fonksiyonu\n",
      "Çalışan fonksiyonunun init fonksiyonu\n"
     ]
    }
   ],
   "source": [
    "yönetici4 = Yönetici(\"CNS ÇELENK\",7400,\"Şef\",6)"
   ]
  },
  {
   "cell_type": "code",
   "execution_count": 24,
   "metadata": {},
   "outputs": [
    {
     "name": "stdout",
     "output_type": "stream",
     "text": [
      "çalışan sınıfının bilgileri...\n",
      "İsim: CNS ÇELENK \n",
      "Maaş: 7400 \n",
      "Departman: Şef \n",
      "Sorumlu Olduğu Kişi Sayısı: 6\n"
     ]
    }
   ],
   "source": [
    "yönetici4.bilgilerigöster()"
   ]
  },
  {
   "cell_type": "code",
   "execution_count": null,
   "metadata": {},
   "outputs": [],
   "source": []
  },
  {
   "cell_type": "code",
   "execution_count": null,
   "metadata": {},
   "outputs": [],
   "source": []
  },
  {
   "cell_type": "code",
   "execution_count": null,
   "metadata": {},
   "outputs": [],
   "source": []
  }
 ],
 "metadata": {
  "kernelspec": {
   "display_name": "Python 3",
   "language": "python",
   "name": "python3"
  },
  "language_info": {
   "codemirror_mode": {
    "name": "ipython",
    "version": 3
   },
   "file_extension": ".py",
   "mimetype": "text/x-python",
   "name": "python",
   "nbconvert_exporter": "python",
   "pygments_lexer": "ipython3",
   "version": "3.8.5"
  }
 },
 "nbformat": 4,
 "nbformat_minor": 4
}
