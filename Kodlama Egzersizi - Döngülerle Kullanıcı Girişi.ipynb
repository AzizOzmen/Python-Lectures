{
 "cells": [
  {
   "cell_type": "code",
   "execution_count": 9,
   "metadata": {
    "scrolled": true
   },
   "outputs": [
    {
     "name": "stdout",
     "output_type": "stream",
     "text": [
      "****************\n",
      "Kullanıcı Girişi Programı\n",
      "****************\n",
      "\n",
      "Kullanıcı adınızı girin: cansu\n",
      "Parolanızı giriniz: asdada\n",
      "Kullanıcı adı ve parola hatalı...\n",
      "giriş hakkı :  2\n",
      "Kullanıcı adınızı girin: Cansu\n",
      "Parolanızı giriniz: aasdasda\n",
      "Parolanız hatalı...\n",
      "giriş hakkı :  1\n",
      "Kullanıcı adınızı girin: Cansu\n",
      "Parolanızı giriniz: asdasd\n",
      "Parolanız hatalı...\n",
      "giriş hakkı :  0\n",
      "Kuşbeyinli CAnsu...\n",
      "giriş hakkı :  0\n"
     ]
    }
   ],
   "source": [
    "print(\"\"\"****************\n",
    "Kullanıcı Girişi Programı\n",
    "****************\n",
    "\"\"\")\n",
    "\n",
    "sys_kullanıcı_adı = \"Cansu\"\n",
    "sys_parola = \"04112017cl\"\n",
    "giris_hakkı = 3\n",
    "\n",
    "while True:\n",
    "    kullanıcı_adı = input(\"Kullanıcı adınızı girin: \")\n",
    "    parola = input(\"Parolanızı giriniz: \")\n",
    "    if (kullanıcı_adı != sys_kullanıcı_adı and parola == sys_parola):\n",
    "        print(\"Kullanıcı Adı Hatalı...\")\n",
    "        giris_hakkı -= 1\n",
    "        print(\"giriş hakkı : \",giris_hakkı)\n",
    "    elif (kullanıcı_adı == sys_kullanıcı_adı and parola != sys_parola):\n",
    "        print(\"Parolanız hatalı...\")\n",
    "        giris_hakkı -=1\n",
    "        print(\"giriş hakkı : \",giris_hakkı)\n",
    "    elif (kullanıcı_adı != sys_kullanıcı_adı and parola != sys_parola):\n",
    "        print(\"Kullanıcı adı ve parola hatalı...\")\n",
    "        giris_hakkı -=1\n",
    "        print(\"giriş hakkı : \",giris_hakkı)\n",
    "    else: \n",
    "        print(\"Sisteme giriliyor...\")\n",
    "        break\n",
    "    if (giris_hakkı == 0):\n",
    "        print(\"Kuşbeyinli CAnsu...\")\n",
    "        print(\"giriş hakkı : \",giris_hakkı)\n",
    "        break\n",
    "    \n",
    "    "
   ]
  }
 ],
 "metadata": {
  "kernelspec": {
   "display_name": "Python 3",
   "language": "python",
   "name": "python3"
  },
  "language_info": {
   "codemirror_mode": {
    "name": "ipython",
    "version": 3
   },
   "file_extension": ".py",
   "mimetype": "text/x-python",
   "name": "python",
   "nbconvert_exporter": "python",
   "pygments_lexer": "ipython3",
   "version": "3.8.5"
  }
 },
 "nbformat": 4,
 "nbformat_minor": 4
}
