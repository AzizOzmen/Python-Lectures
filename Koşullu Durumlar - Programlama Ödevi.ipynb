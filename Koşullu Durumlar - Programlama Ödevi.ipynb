{
 "cells": [
  {
   "cell_type": "code",
   "execution_count": 4,
   "metadata": {},
   "outputs": [
    {
     "name": "stdout",
     "output_type": "stream",
     "text": [
      "****************\n",
      "Boy-Kilo Endeksi Hesaplama Programı\n",
      "****************\n",
      "\n",
      "Boyunuzu metre cinsinden giriniz: 1.63\n",
      "Kilonuzu giriniz: 66.6\n",
      "Fazla Kilolusunuz...\n"
     ]
    }
   ],
   "source": [
    "print(\"\"\"****************\n",
    "Boy-Kilo Endeksi Hesaplama Programı\n",
    "****************\n",
    "\"\"\")\n",
    "\n",
    "kullanıcı_boy = float(input(\"Boyunuzu metre cinsinden giriniz: \"))\n",
    "kullanıcı_kilo = float(input(\"Kilonuzu giriniz: \"))\n",
    "\n",
    "bki = kullanıcı_kilo / (kullanıcı_boy**2)\n",
    "\n",
    "if bki <= 18.5:\n",
    "    print(\"Zayıfsınız...\")\n",
    "elif 18.5 < bki <= 25:\n",
    "    print(\"Normalsiniz...\")\n",
    "elif 25 < bki <= 30:\n",
    "    print(\"Fazla Kilolusunuz...\")\n",
    "elif bki >30:\n",
    "    print(\"Obezsin, tosunum...\")\n",
    "else:\n",
    "    print(\"Hatalı giriş...\")"
   ]
  },
  {
   "cell_type": "code",
   "execution_count": null,
   "metadata": {},
   "outputs": [],
   "source": []
  },
  {
   "cell_type": "code",
   "execution_count": 8,
   "metadata": {},
   "outputs": [
    {
     "name": "stdout",
     "output_type": "stream",
     "text": [
      "Birinci sayıyı giriniz: 5\n",
      "İkinci sayıyı giriniz: 4\n",
      "Üçüncü sayıyı giriniz: 3\n",
      "En büyük sayı:  5\n"
     ]
    }
   ],
   "source": [
    "a = int(input(\"Birinci sayıyı giriniz: \"))\n",
    "b = int(input(\"İkinci sayıyı giriniz: \"))\n",
    "c = int(input(\"Üçüncü sayıyı giriniz: \"))\n",
    "\n",
    "if a>= b and a>=c:\n",
    "    print(\"En büyük sayı: \",a)\n",
    "elif b>=a and b>=c:\n",
    "    print(\"En büyük sayı: \",b)\n",
    "elif c>=a and c>=b:\n",
    "    print(\"En büyük sayı: \",c)"
   ]
  },
  {
   "cell_type": "code",
   "execution_count": null,
   "metadata": {},
   "outputs": [],
   "source": []
  },
  {
   "cell_type": "code",
   "execution_count": 12,
   "metadata": {},
   "outputs": [
    {
     "name": "stdout",
     "output_type": "stream",
     "text": [
      "*************\n",
      "Not Hesaplama Programı'na Hoşgeldiniz.\n",
      "*************\n",
      "\n",
      "Vize1 notunuzu giriniz: 58\n",
      "Vize2 notunuzu giriniz: 69\n",
      "Final notunuzu giriniz: 87\n",
      "Ortalamanız:  72.9 Notunuz: CC\n"
     ]
    }
   ],
   "source": [
    "print(\"\"\"*************\n",
    "Not Hesaplama Programı'na Hoşgeldiniz.\n",
    "*************\n",
    "\"\"\")\n",
    "\n",
    "vize_not1 = int(input(\"Vize1 notunuzu giriniz: \"))\n",
    "vize_not2 = int(input(\"Vize2 notunuzu giriniz: \"))\n",
    "final_not = int(input(\"Final notunuzu giriniz: \"))\n",
    "\n",
    "toplam_not = vize_not1*0.3 + vize_not2*0.3 + final_not*0.4\n",
    "\n",
    "if toplam_not>=90:\n",
    "    print(\"Notunuz: AA\")\n",
    "elif toplam_not<90 and toplam_not>=85:\n",
    "    print(\"Notunuz: BA\")\n",
    "elif toplam_not<85 and toplam_not>=80:\n",
    "    print(\"Notunuz: BB\")\n",
    "elif toplam_not<80 and toplam_not>=75:\n",
    "    print(\"Notunuz: CB\")\n",
    "elif toplam_not<75 and toplam_not>=70:\n",
    "    print(\"Ortalamanız: \",toplam_not, \"Notunuz: CC\")\n",
    "elif toplam_not<70 and toplam_not>=65:\n",
    "    print(\"Notunuz: DC\")\n",
    "elif toplam_not<65 and toplam_not>=60:\n",
    "    print(\"Notunuz: DD\")\n",
    "else:\n",
    "    print(\"Kaldınız...\")"
   ]
  },
  {
   "cell_type": "code",
   "execution_count": null,
   "metadata": {},
   "outputs": [],
   "source": []
  },
  {
   "cell_type": "code",
   "execution_count": 18,
   "metadata": {},
   "outputs": [
    {
     "name": "stdout",
     "output_type": "stream",
     "text": [
      "******************\n",
      "Geometrik Hesaplama Programına Hoşgeldiniz.\n",
      "******************\n",
      "\n",
      "Hangi şeklin tipini öğrenmek istersiniz?Üçgen\n",
      "Lütfen kenarları giriniz:\n",
      "Kenar 1: 5\n",
      "KEnar 2: 5\n",
      "Kenar 3: 8\n",
      "ŞEkliniz İKİZKENAR ÜÇGEN\n"
     ]
    }
   ],
   "source": [
    "print(\"\"\"******************\n",
    "Geometrik Hesaplama Programına Hoşgeldiniz.\n",
    "******************\n",
    "\"\"\")\n",
    "\n",
    "şekil = input(\"Hangi şeklin tipini öğrenmek istersiniz?\")\n",
    "\n",
    "if şekil == \"Dörtgen\":\n",
    "    print(\"Lütfen kenarları sırasıyla giriniz.\")\n",
    "    a = int(input(\"Kenar 1: \"))\n",
    "    b = int(input(\"KEnar 2: \"))\n",
    "    c = int(input(\"Kenar 3: \"))\n",
    "    d = int(input(\"Kenar 4: \"))\n",
    "    \n",
    "    if a==b and a==c and a==d:\n",
    "        print(\"Şekliniz KARE\")\n",
    "    elif a==c and b==d:\n",
    "        print(\"Şekliniz DİKDÖRTGEN\")\n",
    "    else:\n",
    "        print(\"Şekliniz DÖRTGEN\")\n",
    "        \n",
    "\n",
    "elif şekil == \"Üçgen\":\n",
    "    print(\"Lütfen kenarları giriniz:\")\n",
    "    a = int(input(\"Kenar 1: \"))\n",
    "    b = int(input(\"KEnar 2: \"))\n",
    "    c = int(input(\"Kenar 3: \"))\n",
    "    \n",
    "    if (abs(a+b)>c and abs(a+c)>b and abs(b+c)>a):\n",
    "        if a==b  and a==c:\n",
    "            print(\"Şekliniz EŞKENAR ÜÇGEN\")\n",
    "        elif (a==b and a!=c) or (a==c and a!=b) or (b==c and b!=a):\n",
    "            print(\"ŞEkliniz İKİZKENAR ÜÇGEN\")\n",
    "        else:\n",
    "            print(\"ŞEkliniz ÇEŞİTKENAR ÜÇGEN\")\n",
    "        \n",
    "        \n",
    "    else:\n",
    "        print(\"Üçgen belirtmiyor...\")"
   ]
  },
  {
   "cell_type": "code",
   "execution_count": null,
   "metadata": {},
   "outputs": [],
   "source": []
  },
  {
   "cell_type": "code",
   "execution_count": null,
   "metadata": {},
   "outputs": [],
   "source": []
  },
  {
   "cell_type": "code",
   "execution_count": null,
   "metadata": {},
   "outputs": [],
   "source": []
  },
  {
   "cell_type": "code",
   "execution_count": null,
   "metadata": {},
   "outputs": [],
   "source": []
  },
  {
   "cell_type": "code",
   "execution_count": null,
   "metadata": {},
   "outputs": [],
   "source": []
  },
  {
   "cell_type": "code",
   "execution_count": null,
   "metadata": {},
   "outputs": [],
   "source": []
  },
  {
   "cell_type": "code",
   "execution_count": null,
   "metadata": {},
   "outputs": [],
   "source": []
  },
  {
   "cell_type": "code",
   "execution_count": null,
   "metadata": {},
   "outputs": [],
   "source": []
  },
  {
   "cell_type": "code",
   "execution_count": null,
   "metadata": {},
   "outputs": [],
   "source": []
  }
 ],
 "metadata": {
  "kernelspec": {
   "display_name": "Python 3",
   "language": "python",
   "name": "python3"
  },
  "language_info": {
   "codemirror_mode": {
    "name": "ipython",
    "version": 3
   },
   "file_extension": ".py",
   "mimetype": "text/x-python",
   "name": "python",
   "nbconvert_exporter": "python",
   "pygments_lexer": "ipython3",
   "version": "3.8.5"
  }
 },
 "nbformat": 4,
 "nbformat_minor": 4
}
