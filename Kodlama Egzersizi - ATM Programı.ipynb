{
 "cells": [
  {
   "cell_type": "code",
   "execution_count": 9,
   "metadata": {
    "scrolled": true
   },
   "outputs": [
    {
     "name": "stdout",
     "output_type": "stream",
     "text": [
      "*****************\n",
      "ATM Makinesine Hoşgeldiniz...\n",
      "\n",
      "İşlemler:\n",
      "\n",
      "1. Bakiye Sorgulama\n",
      "\n",
      "2. Para Yatırma\n",
      "\n",
      "3. Para Çekme\n",
      "\n",
      "Programdan Çıkmak İçin \"q\" harfine basınız...\n",
      "\n",
      "*****************\n",
      "\n",
      "İşlem seçiniz: 3\n",
      "Miktarı giriniz: 1200\n",
      "Napıyorsun kardeşim o kadar paran yokki....\n",
      "İşlem seçiniz: 3\n",
      "Miktarı giriniz: 500\n",
      "500 TL'niz hesaplanıyor...\n",
      "İşlem seçiniz: 1\n",
      "Bakiyeniz 500 TL'dir.\n",
      "İşlem seçiniz: q\n",
      "Yine Bekleriz...\n"
     ]
    }
   ],
   "source": [
    "print(\"\"\"*****************\n",
    "ATM Makinesine Hoşgeldiniz...\n",
    "\n",
    "İşlemler:\n",
    "\n",
    "1. Bakiye Sorgulama\n",
    "\n",
    "2. Para Yatırma\n",
    "\n",
    "3. Para Çekme\n",
    "\n",
    "Programdan Çıkmak İçin \"q\" harfine basınız...\n",
    "\n",
    "*****************\n",
    "\"\"\")\n",
    "\n",
    "\n",
    "bakiye = 1000\n",
    "\n",
    "while True:\n",
    "    işlem = input(\"İşlem seçiniz: \")\n",
    "    \n",
    "    if (işlem == \"q\"):\n",
    "        print(\"Yine Bekleriz...\")\n",
    "        break\n",
    "    elif (işlem == \"1\"):\n",
    "        print(\"Bakiyeniz {} TL'dir.\".format(bakiye))\n",
    "        \n",
    "    elif (işlem == \"2\"):\n",
    "        miktar = int(input(\"Miktarı giriniz: \"))\n",
    "        bakiye += miktar\n",
    "        \n",
    "    elif (işlem == \"3\"):\n",
    "        miktar = int(input(\"Miktarı giriniz: \"))\n",
    "        if (bakiye-miktar<0):\n",
    "            print(\"Napıyorsun kardeşim o kadar paran yokki....\")\n",
    "            continue\n",
    "    \n",
    "        print(\"{} TL'niz hesaplanıyor...\".format(miktar))\n",
    "        bakiye -= miktar\n",
    "            \n",
    "            \n",
    "        \n",
    "    else:\n",
    "        print(\"Geçersiz İşlem....\")"
   ]
  },
  {
   "cell_type": "code",
   "execution_count": null,
   "metadata": {},
   "outputs": [],
   "source": []
  },
  {
   "cell_type": "code",
   "execution_count": null,
   "metadata": {},
   "outputs": [],
   "source": []
  }
 ],
 "metadata": {
  "kernelspec": {
   "display_name": "Python 3",
   "language": "python",
   "name": "python3"
  },
  "language_info": {
   "codemirror_mode": {
    "name": "ipython",
    "version": 3
   },
   "file_extension": ".py",
   "mimetype": "text/x-python",
   "name": "python",
   "nbconvert_exporter": "python",
   "pygments_lexer": "ipython3",
   "version": "3.8.5"
  }
 },
 "nbformat": 4,
 "nbformat_minor": 4
}
