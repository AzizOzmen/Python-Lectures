{
 "cells": [
  {
   "cell_type": "code",
   "execution_count": 6,
   "metadata": {},
   "outputs": [
    {
     "name": "stdout",
     "output_type": "stream",
     "text": [
      "Birinci sayıyı giriniz: 17\n",
      "İkinci sayıyı giriniz: 27\n",
      "üçüncü sayıyı giriniz: 57\n",
      "Sayıların çarpımı : 17 * 27 * 57 = 26163 şeklindedir.\n",
      "Sayıların çarpımı: 17 * 27 * 57 = 26163\n"
     ]
    }
   ],
   "source": [
    "a = int(input(\"Birinci sayıyı giriniz: \"))\n",
    "b = int(input(\"İkinci sayıyı giriniz: \"))\n",
    "c = int(input(\"üçüncü sayıyı giriniz: \"))\n",
    "\n",
    "sayilarin_carpimi = a * b * c\n",
    "\n",
    "print(\"Sayıların çarpımı : {} * {} * {} = {} şeklindedir.\".format(a,b,c,sayilarin_carpimi))\n",
    "print(f\"Sayıların çarpımı: {a} * {b} * {c} = {sayilarin_carpimi}\")"
   ]
  },
  {
   "cell_type": "code",
   "execution_count": null,
   "metadata": {},
   "outputs": [],
   "source": []
  },
  {
   "cell_type": "code",
   "execution_count": 4,
   "metadata": {},
   "outputs": [
    {
     "name": "stdout",
     "output_type": "stream",
     "text": [
      "Boyunuzu giriniz: 1.80\n",
      "Ağrılığınızı giriniz: 104\n",
      "BMI oranınız:  32.098765432098766\n"
     ]
    }
   ],
   "source": [
    "boy = float(input(\"Boyunuzu giriniz: \"))\n",
    "kütle = int(input(\"Ağrılığınızı giriniz: \"))\n",
    "\n",
    "BMI = kütle / (boy **2)\n",
    "print(\"BMI oranınız: \", BMI)"
   ]
  },
  {
   "cell_type": "code",
   "execution_count": null,
   "metadata": {},
   "outputs": [],
   "source": []
  },
  {
   "cell_type": "code",
   "execution_count": 5,
   "metadata": {},
   "outputs": [
    {
     "name": "stdout",
     "output_type": "stream",
     "text": [
      "Aracımız 610 km yol gider ve her kmde 0.38 kuruş yakarsa toplam tutar 231.8 TL olur.\n"
     ]
    }
   ],
   "source": [
    "aracin_km_yakit = 0.38\n",
    "gidilen_yol = 610\n",
    "\n",
    "tutar = aracin_km_yakit * gidilen_yol\n",
    "\n",
    "print(\"Aracımız {} km yol gider ve her kmde {} kuruş yakarsa toplam tutar {} TL olur.\".format(gidilen_yol, aracin_km_yakit, tutar))\n"
   ]
  },
  {
   "cell_type": "code",
   "execution_count": null,
   "metadata": {},
   "outputs": [],
   "source": []
  },
  {
   "cell_type": "code",
   "execution_count": 7,
   "metadata": {},
   "outputs": [
    {
     "name": "stdout",
     "output_type": "stream",
     "text": [
      "Lütfen adınızı giriniz: cansu\n",
      "Lütfen soyadınızı giriniz: çelenk\n",
      "Lütfen numaranızı giriniz: 1562\n",
      "Kullanıcının adı: cansu\n",
      "Kullanıcının soyadı: çelenk\n",
      "Kullanıcının numarası: 1562\n"
     ]
    }
   ],
   "source": [
    "ad = input(\"Lütfen adınızı giriniz: \")\n",
    "soyad = input(\"Lütfen soyadınızı giriniz: \")\n",
    "numara = input(\"Lütfen numaranızı giriniz: \")\n",
    "\n",
    "bilgiler = [ad, soyad, numara]\n",
    "\n",
    "print(f\"Kullanıcının adı: {bilgiler[0]}\\nKullanıcının soyadı: {bilgiler[1]}\\nKullanıcının numarası: {bilgiler[2]}\")"
   ]
  },
  {
   "cell_type": "code",
   "execution_count": null,
   "metadata": {},
   "outputs": [],
   "source": []
  },
  {
   "cell_type": "code",
   "execution_count": 8,
   "metadata": {},
   "outputs": [
    {
     "name": "stdout",
     "output_type": "stream",
     "text": [
      "Bir sayı giriniz: 89\n",
      "Başka bir sayı giriniz: 98\n",
      "SAyıların yerleri değişmeden önce:  89 98\n",
      "SAyıların yerleri değiştikten sonra:  98 89\n"
     ]
    }
   ],
   "source": [
    "a = int(input(\"Bir sayı giriniz: \"))\n",
    "b = int(input(\"Başka bir sayı giriniz: \"))\n",
    "\n",
    "print(\"SAyıların yerleri değişmeden önce: \",a,b)\n",
    "a,b = b,a\n",
    "print(\"SAyıların yerleri değiştikten sonra: \",a,b)"
   ]
  },
  {
   "cell_type": "code",
   "execution_count": null,
   "metadata": {},
   "outputs": [],
   "source": []
  },
  {
   "cell_type": "code",
   "execution_count": 9,
   "metadata": {},
   "outputs": [
    {
     "name": "stdout",
     "output_type": "stream",
     "text": [
      "Dik kenarlardan birini giriniz: 3\n",
      "Dik kenarlardan ikincisini giriniz: 4\n",
      "Hipotenüsün uzunluğu :  5.0\n"
     ]
    }
   ],
   "source": [
    "a = int(input(\"Dik kenarlardan birini giriniz: \"))\n",
    "b = int(input(\"Dik kenarlardan ikincisini giriniz: \"))\n",
    "\n",
    "hipotenus = (a**2 + b**2)**0.5\n",
    "\n",
    "print(\"Hipotenüsün uzunluğu : \", hipotenus)"
   ]
  },
  {
   "cell_type": "code",
   "execution_count": null,
   "metadata": {},
   "outputs": [],
   "source": []
  },
  {
   "cell_type": "code",
   "execution_count": null,
   "metadata": {},
   "outputs": [],
   "source": []
  },
  {
   "cell_type": "code",
   "execution_count": null,
   "metadata": {},
   "outputs": [],
   "source": []
  },
  {
   "cell_type": "code",
   "execution_count": null,
   "metadata": {},
   "outputs": [],
   "source": []
  },
  {
   "cell_type": "code",
   "execution_count": null,
   "metadata": {},
   "outputs": [],
   "source": []
  },
  {
   "cell_type": "code",
   "execution_count": null,
   "metadata": {},
   "outputs": [],
   "source": []
  },
  {
   "cell_type": "code",
   "execution_count": null,
   "metadata": {},
   "outputs": [],
   "source": []
  },
  {
   "cell_type": "code",
   "execution_count": null,
   "metadata": {},
   "outputs": [],
   "source": []
  },
  {
   "cell_type": "code",
   "execution_count": null,
   "metadata": {},
   "outputs": [],
   "source": []
  },
  {
   "cell_type": "code",
   "execution_count": null,
   "metadata": {},
   "outputs": [],
   "source": []
  },
  {
   "cell_type": "code",
   "execution_count": null,
   "metadata": {},
   "outputs": [],
   "source": []
  },
  {
   "cell_type": "code",
   "execution_count": null,
   "metadata": {},
   "outputs": [],
   "source": []
  },
  {
   "cell_type": "code",
   "execution_count": null,
   "metadata": {},
   "outputs": [],
   "source": []
  },
  {
   "cell_type": "code",
   "execution_count": null,
   "metadata": {},
   "outputs": [],
   "source": []
  }
 ],
 "metadata": {
  "kernelspec": {
   "display_name": "Python 3",
   "language": "python",
   "name": "python3"
  },
  "language_info": {
   "codemirror_mode": {
    "name": "ipython",
    "version": 3
   },
   "file_extension": ".py",
   "mimetype": "text/x-python",
   "name": "python",
   "nbconvert_exporter": "python",
   "pygments_lexer": "ipython3",
   "version": "3.8.5"
  }
 },
 "nbformat": 4,
 "nbformat_minor": 4
}
