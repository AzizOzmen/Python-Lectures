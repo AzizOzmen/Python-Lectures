{
 "cells": [
  {
   "cell_type": "code",
   "execution_count": 4,
   "metadata": {},
   "outputs": [
    {
     "name": "stdout",
     "output_type": "stream",
     "text": [
      "\n",
      "****************************\n",
      "Mükemmel SAyı Bulma Programı...\n",
      "****************************\n",
      "\n",
      "Mükemmel sayı:  6\n",
      "Mükemmel sayı:  28\n",
      "Mükemmel sayı:  496\n"
     ]
    }
   ],
   "source": [
    "print(\"\"\"\n",
    "****************************\n",
    "Mükemmel SAyı Bulma Programı...\n",
    "****************************\n",
    "\"\"\")\n",
    "\n",
    "def mükemmel_sayı(sayı):\n",
    "    toplam = 0\n",
    "    \n",
    "    for i in range(1,sayı):\n",
    "        if (sayı%i == 0):\n",
    "            toplam += i\n",
    "            \n",
    "    return toplam == sayı\n",
    "\n",
    "for i in range(1,1000):\n",
    "    if (mükemmel_sayı(i)):\n",
    "        print(\"Mükemmel sayı: \", i)"
   ]
  },
  {
   "cell_type": "code",
   "execution_count": null,
   "metadata": {},
   "outputs": [],
   "source": []
  },
  {
   "cell_type": "code",
   "execution_count": null,
   "metadata": {},
   "outputs": [],
   "source": []
  },
  {
   "cell_type": "code",
   "execution_count": null,
   "metadata": {},
   "outputs": [],
   "source": []
  }
 ],
 "metadata": {
  "kernelspec": {
   "display_name": "Python 3",
   "language": "python",
   "name": "python3"
  },
  "language_info": {
   "codemirror_mode": {
    "name": "ipython",
    "version": 3
   },
   "file_extension": ".py",
   "mimetype": "text/x-python",
   "name": "python",
   "nbconvert_exporter": "python",
   "pygments_lexer": "ipython3",
   "version": "3.8.5"
  }
 },
 "nbformat": 4,
 "nbformat_minor": 4
}
